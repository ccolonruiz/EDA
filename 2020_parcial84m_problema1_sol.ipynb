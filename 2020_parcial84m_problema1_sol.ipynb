{
  "nbformat": 4,
  "nbformat_minor": 0,
  "metadata": {
    "colab": {
      "name": "parcial84m_problema1_sol.ipynb",
      "provenance": [],
      "authorship_tag": "ABX9TyOM+UVzMvR/aMZCGb6ghD/j",
      "include_colab_link": true
    },
    "kernelspec": {
      "name": "python3",
      "display_name": "Python 3"
    }
  },
  "cells": [
    {
      "cell_type": "markdown",
      "metadata": {
        "id": "view-in-github",
        "colab_type": "text"
      },
      "source": [
        "<a href=\"https://colab.research.google.com/github/ccolonruiz/EDA/blob/master/2020_parcial84m_problema1_sol.ipynb\" target=\"_parent\"><img src=\"https://colab.research.google.com/assets/colab-badge.svg\" alt=\"Open In Colab\"/></a>"
      ]
    },
    {
      "cell_type": "markdown",
      "metadata": {
        "id": "X10sl1Kb35-L",
        "colab_type": "text"
      },
      "source": [
        "## Problema 1 - Recursión \n",
        "\n",
        "### Enunciado:\n",
        "\n",
        "Escribe una **función recursiva** que tome como parámetro una lista de Python y un valor x, y que elimine de la lista todas las ocurrencias de x. El método devuelve la lista actualizada (es decir, sin las ocurrencias de x). En el método no puedes utilizar una lista auxiliar (ningún tipo de lista) para desarrollar tu solución. \n",
        "Escribe tu solución en el fichero problema1.py y cuando hayas terminado subelo a la actividad Problema1. El tiempo para hacer este problema son 15 minutos, y tendrás 2 minutos para subir la solución (si has terminado antes, puedes subirlo antes)."
      ]
    },
    {
      "cell_type": "code",
      "metadata": {
        "id": "IjY_MxTI3P4u",
        "colab_type": "code",
        "colab": {}
      },
      "source": [
        "def removeElem(data, x):\n",
        "    if data==None or len(data)==0:\n",
        "        return data\n",
        "    else:\n",
        "        if data[0] == x:\n",
        "            return removeElem(data[1:], x)\n",
        "        return [data[0]]+removeElem(data[1:], x)"
      ],
      "execution_count": 0,
      "outputs": []
    },
    {
      "cell_type": "code",
      "metadata": {
        "id": "ZPRRUmWY4XnV",
        "colab_type": "code",
        "outputId": "459f2df1-01e4-409b-f339-9c488f1ec866",
        "colab": {
          "base_uri": "https://localhost:8080/",
          "height": 136
        }
      },
      "source": [
        "print(\"\\nGrupo 84 - problema 1\\n\")\n",
        "import random\n",
        "value = random.randint(0,10)\n",
        "print('value=',value)\n",
        "\n",
        "\n",
        "l = []\n",
        "for i in range(20):\n",
        "    l.append(random.randint(0,10))\n",
        "    \n",
        "    \n",
        "print(l)\n",
        "print(\"Eliminar ocurrencias de '{}' en la lista:\\n{}\".format(str(value), removeElem(l, value)))"
      ],
      "execution_count": 0,
      "outputs": [
        {
          "output_type": "stream",
          "text": [
            "\n",
            "Grupo 84 - problema 1\n",
            "\n",
            "value= 7\n",
            "[4, 6, 6, 10, 5, 7, 6, 3, 6, 10, 10, 4, 10, 9, 5, 2, 10, 6, 0, 2]\n",
            "Eliminar ocurrencias de '7' en la lista:\n",
            "[4, 6, 6, 10, 5, 6, 3, 6, 10, 10, 4, 10, 9, 5, 2, 10, 6, 0, 2]\n"
          ],
          "name": "stdout"
        }
      ]
    },
    {
      "cell_type": "code",
      "metadata": {
        "id": "PpF_TS7T4byi",
        "colab_type": "code",
        "outputId": "c9433b7f-e62f-4eb5-cc2b-c710085e074c",
        "colab": {
          "base_uri": "https://localhost:8080/",
          "height": 119
        }
      },
      "source": [
        "import unittest\n",
        "\n",
        "class Test(unittest.TestCase):\n",
        "    def setUp(self):\n",
        "      self.x=9\n",
        "      self.input=[9, 1, 2, 3, 9, 10, 2, 6, 1, 4, 0, 4, 3, 10, 5, 5, 9, 9, 10, 2]\n",
        "      self.output=[1, 2, 3, 10, 2, 6, 1, 4, 0, 4, 3, 10, 5, 5, 10, 2]\n",
        "\n",
        "    def test_removeElem(self):\n",
        "        self.assertEqual(removeElem(None,self.x), None)\n",
        "        self.assertEqual(removeElem([],self.x), [])\n",
        "        self.assertEqual(removeElem(self.input,self.x), self.output)\n",
        "\n",
        "\n",
        "\n",
        "#Comentar para usarlo en spyder\n",
        "unittest.main(argv=['first-arg-is-ignored'], exit=False)\n",
        "\n",
        "#Descomenar para usarlo en Spyder\n",
        "#if __name__ == '__main__':\n",
        "#    unittest.main()"
      ],
      "execution_count": 0,
      "outputs": [
        {
          "output_type": "stream",
          "text": [
            ".\n",
            "----------------------------------------------------------------------\n",
            "Ran 1 test in 0.001s\n",
            "\n",
            "OK\n"
          ],
          "name": "stderr"
        },
        {
          "output_type": "execute_result",
          "data": {
            "text/plain": [
              "<unittest.main.TestProgram at 0x7f82fff87710>"
            ]
          },
          "metadata": {
            "tags": []
          },
          "execution_count": 6
        }
      ]
    }
  ]
}