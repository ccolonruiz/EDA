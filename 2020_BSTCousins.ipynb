{
  "nbformat": 4,
  "nbformat_minor": 0,
  "metadata": {
    "colab": {
      "name": "ABBCousins.ipynb",
      "provenance": [],
      "authorship_tag": "ABX9TyOz3Z96V3SBgAqcQa7ErXGF",
      "include_colab_link": true
    },
    "kernelspec": {
      "name": "python3",
      "display_name": "Python 3"
    }
  },
  "cells": [
    {
      "cell_type": "markdown",
      "metadata": {
        "id": "view-in-github",
        "colab_type": "text"
      },
      "source": [
        "<a href=\"https://colab.research.google.com/github/ccolonruiz/EDA/blob/master/2020_BSTCousins.ipynb\" target=\"_parent\"><img src=\"https://colab.research.google.com/assets/colab-badge.svg\" alt=\"Open In Colab\"/></a>"
      ]
    },
    {
      "cell_type": "code",
      "metadata": {
        "id": "0czb76spyazU",
        "colab_type": "code",
        "colab": {
          "resources": {
            "http://localhost:8080/nbextensions/google.colab/files.js": {
              "data": "Ly8gQ29weXJpZ2h0IDIwMTcgR29vZ2xlIExMQwovLwovLyBMaWNlbnNlZCB1bmRlciB0aGUgQXBhY2hlIExpY2Vuc2UsIFZlcnNpb24gMi4wICh0aGUgIkxpY2Vuc2UiKTsKLy8geW91IG1heSBub3QgdXNlIHRoaXMgZmlsZSBleGNlcHQgaW4gY29tcGxpYW5jZSB3aXRoIHRoZSBMaWNlbnNlLgovLyBZb3UgbWF5IG9idGFpbiBhIGNvcHkgb2YgdGhlIExpY2Vuc2UgYXQKLy8KLy8gICAgICBodHRwOi8vd3d3LmFwYWNoZS5vcmcvbGljZW5zZXMvTElDRU5TRS0yLjAKLy8KLy8gVW5sZXNzIHJlcXVpcmVkIGJ5IGFwcGxpY2FibGUgbGF3IG9yIGFncmVlZCB0byBpbiB3cml0aW5nLCBzb2Z0d2FyZQovLyBkaXN0cmlidXRlZCB1bmRlciB0aGUgTGljZW5zZSBpcyBkaXN0cmlidXRlZCBvbiBhbiAiQVMgSVMiIEJBU0lTLAovLyBXSVRIT1VUIFdBUlJBTlRJRVMgT1IgQ09ORElUSU9OUyBPRiBBTlkgS0lORCwgZWl0aGVyIGV4cHJlc3Mgb3IgaW1wbGllZC4KLy8gU2VlIHRoZSBMaWNlbnNlIGZvciB0aGUgc3BlY2lmaWMgbGFuZ3VhZ2UgZ292ZXJuaW5nIHBlcm1pc3Npb25zIGFuZAovLyBsaW1pdGF0aW9ucyB1bmRlciB0aGUgTGljZW5zZS4KCi8qKgogKiBAZmlsZW92ZXJ2aWV3IEhlbHBlcnMgZm9yIGdvb2dsZS5jb2xhYiBQeXRob24gbW9kdWxlLgogKi8KKGZ1bmN0aW9uKHNjb3BlKSB7CmZ1bmN0aW9uIHNwYW4odGV4dCwgc3R5bGVBdHRyaWJ1dGVzID0ge30pIHsKICBjb25zdCBlbGVtZW50ID0gZG9jdW1lbnQuY3JlYXRlRWxlbWVudCgnc3BhbicpOwogIGVsZW1lbnQudGV4dENvbnRlbnQgPSB0ZXh0OwogIGZvciAoY29uc3Qga2V5IG9mIE9iamVjdC5rZXlzKHN0eWxlQXR0cmlidXRlcykpIHsKICAgIGVsZW1lbnQuc3R5bGVba2V5XSA9IHN0eWxlQXR0cmlidXRlc1trZXldOwogIH0KICByZXR1cm4gZWxlbWVudDsKfQoKLy8gTWF4IG51bWJlciBvZiBieXRlcyB3aGljaCB3aWxsIGJlIHVwbG9hZGVkIGF0IGEgdGltZS4KY29uc3QgTUFYX1BBWUxPQURfU0laRSA9IDEwMCAqIDEwMjQ7Ci8vIE1heCBhbW91bnQgb2YgdGltZSB0byBibG9jayB3YWl0aW5nIGZvciB0aGUgdXNlci4KY29uc3QgRklMRV9DSEFOR0VfVElNRU9VVF9NUyA9IDMwICogMTAwMDsKCmZ1bmN0aW9uIF91cGxvYWRGaWxlcyhpbnB1dElkLCBvdXRwdXRJZCkgewogIGNvbnN0IHN0ZXBzID0gdXBsb2FkRmlsZXNTdGVwKGlucHV0SWQsIG91dHB1dElkKTsKICBjb25zdCBvdXRwdXRFbGVtZW50ID0gZG9jdW1lbnQuZ2V0RWxlbWVudEJ5SWQob3V0cHV0SWQpOwogIC8vIENhY2hlIHN0ZXBzIG9uIHRoZSBvdXRwdXRFbGVtZW50IHRvIG1ha2UgaXQgYXZhaWxhYmxlIGZvciB0aGUgbmV4dCBjYWxsCiAgLy8gdG8gdXBsb2FkRmlsZXNDb250aW51ZSBmcm9tIFB5dGhvbi4KICBvdXRwdXRFbGVtZW50LnN0ZXBzID0gc3RlcHM7CgogIHJldHVybiBfdXBsb2FkRmlsZXNDb250aW51ZShvdXRwdXRJZCk7Cn0KCi8vIFRoaXMgaXMgcm91Z2hseSBhbiBhc3luYyBnZW5lcmF0b3IgKG5vdCBzdXBwb3J0ZWQgaW4gdGhlIGJyb3dzZXIgeWV0KSwKLy8gd2hlcmUgdGhlcmUgYXJlIG11bHRpcGxlIGFzeW5jaHJvbm91cyBzdGVwcyBhbmQgdGhlIFB5dGhvbiBzaWRlIGlzIGdvaW5nCi8vIHRvIHBvbGwgZm9yIGNvbXBsZXRpb24gb2YgZWFjaCBzdGVwLgovLyBUaGlzIHVzZXMgYSBQcm9taXNlIHRvIGJsb2NrIHRoZSBweXRob24gc2lkZSBvbiBjb21wbGV0aW9uIG9mIGVhY2ggc3RlcCwKLy8gdGhlbiBwYXNzZXMgdGhlIHJlc3VsdCBvZiB0aGUgcHJldmlvdXMgc3RlcCBhcyB0aGUgaW5wdXQgdG8gdGhlIG5leHQgc3RlcC4KZnVuY3Rpb24gX3VwbG9hZEZpbGVzQ29udGludWUob3V0cHV0SWQpIHsKICBjb25zdCBvdXRwdXRFbGVtZW50ID0gZG9jdW1lbnQuZ2V0RWxlbWVudEJ5SWQob3V0cHV0SWQpOwogIGNvbnN0IHN0ZXBzID0gb3V0cHV0RWxlbWVudC5zdGVwczsKCiAgY29uc3QgbmV4dCA9IHN0ZXBzLm5leHQob3V0cHV0RWxlbWVudC5sYXN0UHJvbWlzZVZhbHVlKTsKICByZXR1cm4gUHJvbWlzZS5yZXNvbHZlKG5leHQudmFsdWUucHJvbWlzZSkudGhlbigodmFsdWUpID0+IHsKICAgIC8vIENhY2hlIHRoZSBsYXN0IHByb21pc2UgdmFsdWUgdG8gbWFrZSBpdCBhdmFpbGFibGUgdG8gdGhlIG5leHQKICAgIC8vIHN0ZXAgb2YgdGhlIGdlbmVyYXRvci4KICAgIG91dHB1dEVsZW1lbnQubGFzdFByb21pc2VWYWx1ZSA9IHZhbHVlOwogICAgcmV0dXJuIG5leHQudmFsdWUucmVzcG9uc2U7CiAgfSk7Cn0KCi8qKgogKiBHZW5lcmF0b3IgZnVuY3Rpb24gd2hpY2ggaXMgY2FsbGVkIGJldHdlZW4gZWFjaCBhc3luYyBzdGVwIG9mIHRoZSB1cGxvYWQKICogcHJvY2Vzcy4KICogQHBhcmFtIHtzdHJpbmd9IGlucHV0SWQgRWxlbWVudCBJRCBvZiB0aGUgaW5wdXQgZmlsZSBwaWNrZXIgZWxlbWVudC4KICogQHBhcmFtIHtzdHJpbmd9IG91dHB1dElkIEVsZW1lbnQgSUQgb2YgdGhlIG91dHB1dCBkaXNwbGF5LgogKiBAcmV0dXJuIHshSXRlcmFibGU8IU9iamVjdD59IEl0ZXJhYmxlIG9mIG5leHQgc3RlcHMuCiAqLwpmdW5jdGlvbiogdXBsb2FkRmlsZXNTdGVwKGlucHV0SWQsIG91dHB1dElkKSB7CiAgY29uc3QgaW5wdXRFbGVtZW50ID0gZG9jdW1lbnQuZ2V0RWxlbWVudEJ5SWQoaW5wdXRJZCk7CiAgaW5wdXRFbGVtZW50LmRpc2FibGVkID0gZmFsc2U7CgogIGNvbnN0IG91dHB1dEVsZW1lbnQgPSBkb2N1bWVudC5nZXRFbGVtZW50QnlJZChvdXRwdXRJZCk7CiAgb3V0cHV0RWxlbWVudC5pbm5lckhUTUwgPSAnJzsKCiAgY29uc3QgcGlja2VkUHJvbWlzZSA9IG5ldyBQcm9taXNlKChyZXNvbHZlKSA9PiB7CiAgICBpbnB1dEVsZW1lbnQuYWRkRXZlbnRMaXN0ZW5lcignY2hhbmdlJywgKGUpID0+IHsKICAgICAgcmVzb2x2ZShlLnRhcmdldC5maWxlcyk7CiAgICB9KTsKICB9KTsKCiAgY29uc3QgY2FuY2VsID0gZG9jdW1lbnQuY3JlYXRlRWxlbWVudCgnYnV0dG9uJyk7CiAgaW5wdXRFbGVtZW50LnBhcmVudEVsZW1lbnQuYXBwZW5kQ2hpbGQoY2FuY2VsKTsKICBjYW5jZWwudGV4dENvbnRlbnQgPSAnQ2FuY2VsIHVwbG9hZCc7CiAgY29uc3QgY2FuY2VsUHJvbWlzZSA9IG5ldyBQcm9taXNlKChyZXNvbHZlKSA9PiB7CiAgICBjYW5jZWwub25jbGljayA9ICgpID0+IHsKICAgICAgcmVzb2x2ZShudWxsKTsKICAgIH07CiAgfSk7CgogIC8vIENhbmNlbCB1cGxvYWQgaWYgdXNlciBoYXNuJ3QgcGlja2VkIGFueXRoaW5nIGluIHRpbWVvdXQuCiAgY29uc3QgdGltZW91dFByb21pc2UgPSBuZXcgUHJvbWlzZSgocmVzb2x2ZSkgPT4gewogICAgc2V0VGltZW91dCgoKSA9PiB7CiAgICAgIHJlc29sdmUobnVsbCk7CiAgICB9LCBGSUxFX0NIQU5HRV9USU1FT1VUX01TKTsKICB9KTsKCiAgLy8gV2FpdCBmb3IgdGhlIHVzZXIgdG8gcGljayB0aGUgZmlsZXMuCiAgY29uc3QgZmlsZXMgPSB5aWVsZCB7CiAgICBwcm9taXNlOiBQcm9taXNlLnJhY2UoW3BpY2tlZFByb21pc2UsIHRpbWVvdXRQcm9taXNlLCBjYW5jZWxQcm9taXNlXSksCiAgICByZXNwb25zZTogewogICAgICBhY3Rpb246ICdzdGFydGluZycsCiAgICB9CiAgfTsKCiAgaWYgKCFmaWxlcykgewogICAgcmV0dXJuIHsKICAgICAgcmVzcG9uc2U6IHsKICAgICAgICBhY3Rpb246ICdjb21wbGV0ZScsCiAgICAgIH0KICAgIH07CiAgfQoKICBjYW5jZWwucmVtb3ZlKCk7CgogIC8vIERpc2FibGUgdGhlIGlucHV0IGVsZW1lbnQgc2luY2UgZnVydGhlciBwaWNrcyBhcmUgbm90IGFsbG93ZWQuCiAgaW5wdXRFbGVtZW50LmRpc2FibGVkID0gdHJ1ZTsKCiAgZm9yIChjb25zdCBmaWxlIG9mIGZpbGVzKSB7CiAgICBjb25zdCBsaSA9IGRvY3VtZW50LmNyZWF0ZUVsZW1lbnQoJ2xpJyk7CiAgICBsaS5hcHBlbmQoc3BhbihmaWxlLm5hbWUsIHtmb250V2VpZ2h0OiAnYm9sZCd9KSk7CiAgICBsaS5hcHBlbmQoc3BhbigKICAgICAgICBgKCR7ZmlsZS50eXBlIHx8ICduL2EnfSkgLSAke2ZpbGUuc2l6ZX0gYnl0ZXMsIGAgKwogICAgICAgIGBsYXN0IG1vZGlmaWVkOiAkewogICAgICAgICAgICBmaWxlLmxhc3RNb2RpZmllZERhdGUgPyBmaWxlLmxhc3RNb2RpZmllZERhdGUudG9Mb2NhbGVEYXRlU3RyaW5nKCkgOgogICAgICAgICAgICAgICAgICAgICAgICAgICAgICAgICAgICAnbi9hJ30gLSBgKSk7CiAgICBjb25zdCBwZXJjZW50ID0gc3BhbignMCUgZG9uZScpOwogICAgbGkuYXBwZW5kQ2hpbGQocGVyY2VudCk7CgogICAgb3V0cHV0RWxlbWVudC5hcHBlbmRDaGlsZChsaSk7CgogICAgY29uc3QgZmlsZURhdGFQcm9taXNlID0gbmV3IFByb21pc2UoKHJlc29sdmUpID0+IHsKICAgICAgY29uc3QgcmVhZGVyID0gbmV3IEZpbGVSZWFkZXIoKTsKICAgICAgcmVhZGVyLm9ubG9hZCA9IChlKSA9PiB7CiAgICAgICAgcmVzb2x2ZShlLnRhcmdldC5yZXN1bHQpOwogICAgICB9OwogICAgICByZWFkZXIucmVhZEFzQXJyYXlCdWZmZXIoZmlsZSk7CiAgICB9KTsKICAgIC8vIFdhaXQgZm9yIHRoZSBkYXRhIHRvIGJlIHJlYWR5LgogICAgbGV0IGZpbGVEYXRhID0geWllbGQgewogICAgICBwcm9taXNlOiBmaWxlRGF0YVByb21pc2UsCiAgICAgIHJlc3BvbnNlOiB7CiAgICAgICAgYWN0aW9uOiAnY29udGludWUnLAogICAgICB9CiAgICB9OwoKICAgIC8vIFVzZSBhIGNodW5rZWQgc2VuZGluZyB0byBhdm9pZCBtZXNzYWdlIHNpemUgbGltaXRzLiBTZWUgYi82MjExNTY2MC4KICAgIGxldCBwb3NpdGlvbiA9IDA7CiAgICB3aGlsZSAocG9zaXRpb24gPCBmaWxlRGF0YS5ieXRlTGVuZ3RoKSB7CiAgICAgIGNvbnN0IGxlbmd0aCA9IE1hdGgubWluKGZpbGVEYXRhLmJ5dGVMZW5ndGggLSBwb3NpdGlvbiwgTUFYX1BBWUxPQURfU0laRSk7CiAgICAgIGNvbnN0IGNodW5rID0gbmV3IFVpbnQ4QXJyYXkoZmlsZURhdGEsIHBvc2l0aW9uLCBsZW5ndGgpOwogICAgICBwb3NpdGlvbiArPSBsZW5ndGg7CgogICAgICBjb25zdCBiYXNlNjQgPSBidG9hKFN0cmluZy5mcm9tQ2hhckNvZGUuYXBwbHkobnVsbCwgY2h1bmspKTsKICAgICAgeWllbGQgewogICAgICAgIHJlc3BvbnNlOiB7CiAgICAgICAgICBhY3Rpb246ICdhcHBlbmQnLAogICAgICAgICAgZmlsZTogZmlsZS5uYW1lLAogICAgICAgICAgZGF0YTogYmFzZTY0LAogICAgICAgIH0sCiAgICAgIH07CiAgICAgIHBlcmNlbnQudGV4dENvbnRlbnQgPQogICAgICAgICAgYCR7TWF0aC5yb3VuZCgocG9zaXRpb24gLyBmaWxlRGF0YS5ieXRlTGVuZ3RoKSAqIDEwMCl9JSBkb25lYDsKICAgIH0KICB9CgogIC8vIEFsbCBkb25lLgogIHlpZWxkIHsKICAgIHJlc3BvbnNlOiB7CiAgICAgIGFjdGlvbjogJ2NvbXBsZXRlJywKICAgIH0KICB9Owp9CgpzY29wZS5nb29nbGUgPSBzY29wZS5nb29nbGUgfHwge307CnNjb3BlLmdvb2dsZS5jb2xhYiA9IHNjb3BlLmdvb2dsZS5jb2xhYiB8fCB7fTsKc2NvcGUuZ29vZ2xlLmNvbGFiLl9maWxlcyA9IHsKICBfdXBsb2FkRmlsZXMsCiAgX3VwbG9hZEZpbGVzQ29udGludWUsCn07Cn0pKHNlbGYpOwo=",
              "ok": true,
              "headers": [
                [
                  "content-type",
                  "application/javascript"
                ]
              ],
              "status": 200,
              "status_text": ""
            }
          },
          "base_uri": "https://localhost:8080/",
          "height": 108
        },
        "outputId": "677dbf63-eff7-4173-ba37-b67affdff65c"
      },
      "source": [
        "\"\"\"\n",
        "Upload files with the implementation of binary search trees and binary trees:\n",
        "--binarytree.py\n",
        "--binarysearchtree.py\n",
        "\"\"\"\n",
        "\n",
        "from google.colab import files\n",
        "src = list(files.upload().values())[0]"
      ],
      "execution_count": 1,
      "outputs": [
        {
          "output_type": "display_data",
          "data": {
            "text/html": [
              "\n",
              "     <input type=\"file\" id=\"files-c67d4d15-013e-406d-a6d2-11ee4e18c99d\" name=\"files[]\" multiple disabled />\n",
              "     <output id=\"result-c67d4d15-013e-406d-a6d2-11ee4e18c99d\">\n",
              "      Upload widget is only available when the cell has been executed in the\n",
              "      current browser session. Please rerun this cell to enable.\n",
              "      </output>\n",
              "      <script src=\"/nbextensions/google.colab/files.js\"></script> "
            ],
            "text/plain": [
              "<IPython.core.display.HTML object>"
            ]
          },
          "metadata": {
            "tags": []
          }
        },
        {
          "output_type": "stream",
          "text": [
            "Saving binarytree.py to binarytree (1).py\n",
            "Saving binarysearchtree.py to binarysearchtree (1).py\n"
          ],
          "name": "stdout"
        }
      ]
    },
    {
      "cell_type": "code",
      "metadata": {
        "id": "lgz3Yu1K0ty8",
        "colab_type": "code",
        "colab": {}
      },
      "source": [
        "from binarysearchtree import BinarySearchTree"
      ],
      "execution_count": 0,
      "outputs": []
    },
    {
      "cell_type": "markdown",
      "metadata": {
        "id": "ye_6MyMmy-KU",
        "colab_type": "text"
      },
      "source": [
        "## First approach (checkCousins): function requiring two tree nodes directly"
      ]
    },
    {
      "cell_type": "code",
      "metadata": {
        "id": "qB6W33M8y77O",
        "colab_type": "code",
        "colab": {}
      },
      "source": [
        "def checkCousins(node1, node2):\n",
        "    \"\"\"Returns True if the two nodes provided are cousins\"\"\"\n",
        "    if node1 and node2:\n",
        "        root1, dp1 = getRoot(node1, depth=True)\n",
        "        root2, dp2 = getRoot(node2, depth=True)\n",
        "        if root1 != root2:\n",
        "            print(\"Error: nodes of different trees\")\n",
        "            return False\n",
        "        if dp1 != dp2:\n",
        "            return False\n",
        "        if node1.parent == node2.parent:\n",
        "            return False\n",
        "        return True\n",
        "    return False\n",
        "\n",
        "def getRoot(node, depth=False):\n",
        "    ch = None\n",
        "    dp = -1\n",
        "    while node:\n",
        "        ch = node\n",
        "        node = node.parent\n",
        "        dp+=1\n",
        "    if depth:\n",
        "        return ch, dp\n",
        "    return ch"
      ],
      "execution_count": 0,
      "outputs": []
    },
    {
      "cell_type": "markdown",
      "metadata": {
        "id": "OWpP2KnkzHNR",
        "colab_type": "text"
      },
      "source": [
        "## Second approach: The BSTCousinsTester type object\n",
        "This object checks if the nodes of its \"tree\" attribute are cousins"
      ]
    },
    {
      "cell_type": "code",
      "metadata": {
        "id": "SxQPpeyzzETc",
        "colab_type": "code",
        "colab": {}
      },
      "source": [
        "class BSTCousinsTester:\n",
        "    def __init__(self, tree):\n",
        "        self.tree = tree\n",
        "        \n",
        "    def check2Nodes(self, elem1, elem2):\n",
        "        node1, node2 = self._find2Nodes(elem1, elem2)\n",
        "        if node1 is None or node2 is None:\n",
        "            return False\n",
        "        if self.tree.depth(node1) != self.tree.depth(node2):\n",
        "            return False\n",
        "        if node1.parent == node2.parent:\n",
        "            return False\n",
        "        return True\n",
        "        \n",
        "    def _find2Nodes(self, elem1, elem2):\n",
        "        if elem1 < elem2:\n",
        "            return self._find2(self.tree.root, elem1, elem2)\n",
        "        return self._find2(self.tree.root, elem2, elem1)\n",
        "        \n",
        "    def _find1(self, node, e):\n",
        "        if node is None:\n",
        "            return None\n",
        "    \n",
        "        if node.elem==e:\n",
        "            return node\n",
        "\n",
        "        if e<node.elem:\n",
        "            return self._find1(node.left,e)\n",
        "\n",
        "        if e>node.elem:\n",
        "            return self._find1(node.right,e)\n",
        "        \n",
        "    def _find2(self, node, eL, eR):\n",
        "        if node is None:\n",
        "            return None, None\n",
        "\n",
        "        if eR < node.elem:\n",
        "            return self._find2(node.left, eL, eR)\n",
        "\n",
        "        elif eL > node.elem:\n",
        "            return self._find2(node.right, eL, eR)\n",
        "\n",
        "        elif eR > node.elem and eL < node.elem:\n",
        "            return self._find1(node.right, eR), self._find1(node.left, eL)\n",
        "        \n",
        "        else:\n",
        "            if node.elem==eR:\n",
        "                return node, self._find1(node.left, eL)\n",
        "            return node, self._find1(node.right, eR)"
      ],
      "execution_count": 0,
      "outputs": []
    },
    {
      "cell_type": "markdown",
      "metadata": {
        "id": "-6P2jwiLzNv0",
        "colab_type": "text"
      },
      "source": [
        "## Third approach: Binary Search Tree subclass"
      ]
    },
    {
      "cell_type": "code",
      "metadata": {
        "id": "2qaVNPjFzQXk",
        "colab_type": "code",
        "colab": {}
      },
      "source": [
        "class CousinBinarySearchTree(BinarySearchTree):\n",
        "    \n",
        "    def checkCousins(self, elem1, elem2):\n",
        "        node1, node2 = self.find2(elem1, elem2)\n",
        "        if node1 is None or node2 is None:\n",
        "            return False\n",
        "        if self.depth(node1) != self.depth(node2):\n",
        "            return False\n",
        "        if node1.parent == node2.parent:\n",
        "            return False\n",
        "        return True\n",
        "        \n",
        "    def find2(self, elem1, elem2):\n",
        "        if elem1 < elem2:\n",
        "            return self._find2Nodes(self.root, elem1, elem2)\n",
        "        return self._find2Nodes(self.root, elem2, elem1)\n",
        "        \n",
        "        \n",
        "    def _find2Nodes(self, node, eL, eR):\n",
        "        if node is None:\n",
        "            return None, None\n",
        "\n",
        "        if eR < node.elem:\n",
        "            return self._find2Nodes(node.left, eL, eR)\n",
        "\n",
        "        elif eL > node.elem:\n",
        "            return self._find2Nodes(node.right, eL, eR)\n",
        "\n",
        "        elif eR > node.elem and eL < node.elem:\n",
        "            return self._findNode(node.right, eR), self._findNode(node.left, eL)\n",
        "        \n",
        "        else:\n",
        "            if node.elem==eR:\n",
        "                return node, self._findNode(node.left, eL)\n",
        "            return node, self._findNode(node.right, eR)"
      ],
      "execution_count": 0,
      "outputs": []
    },
    {
      "cell_type": "markdown",
      "metadata": {
        "id": "2oz23czZzWc8",
        "colab_type": "text"
      },
      "source": [
        "## Set Up"
      ]
    },
    {
      "cell_type": "code",
      "metadata": {
        "id": "tG_vfkoWzaft",
        "colab_type": "code",
        "colab": {
          "base_uri": "https://localhost:8080/",
          "height": 340
        },
        "outputId": "5a549582-f2eb-4228-d513-5223edced6a7"
      },
      "source": [
        "objTree1 = BinarySearchTree()\n",
        "objTree2 = BinarySearchTree()\n",
        "objTree3 = BinarySearchTree()\n",
        "\n",
        "for e in [4,2,6,1,3,5,7,8]:\n",
        "    objTree1.insert(e)\n",
        "for e in [3,2,1,4,5]:\n",
        "    objTree2.insert(e)  \n",
        "\n",
        "print(\"Tree objTree1: \")\n",
        "objTree1.draw()\n",
        "print(\"Tree objTree2: \")\n",
        "objTree2.draw()\n",
        "print(\"Tree objTree3: \")\n",
        "objTree3.draw()  "
      ],
      "execution_count": 7,
      "outputs": [
        {
          "output_type": "stream",
          "text": [
            "Tree objTree1: \n",
            "               |-- 8\n",
            "          |-- 7\n",
            "     |-- 6\n",
            "          |-- 5\n",
            "|-- 4\n",
            "          |-- 3\n",
            "     |-- 2\n",
            "          |-- 1\n",
            "\n",
            "Tree objTree2: \n",
            "          |-- 5\n",
            "     |-- 4\n",
            "|-- 3\n",
            "     |-- 2\n",
            "          |-- 1\n",
            "\n",
            "Tree objTree3: \n",
            "\n"
          ],
          "name": "stdout"
        }
      ]
    },
    {
      "cell_type": "markdown",
      "metadata": {
        "id": "IzX_j3kYzeq0",
        "colab_type": "text"
      },
      "source": [
        "### Searchable elements"
      ]
    },
    {
      "cell_type": "code",
      "metadata": {
        "id": "88oQVxedzhF0",
        "colab_type": "code",
        "colab": {}
      },
      "source": [
        "elem1 = 1\n",
        "elem2 = 5"
      ],
      "execution_count": 0,
      "outputs": []
    },
    {
      "cell_type": "markdown",
      "metadata": {
        "id": "4PChpvYyziOs",
        "colab_type": "text"
      },
      "source": [
        "## Testing approach 1: checkCousins function"
      ]
    },
    {
      "cell_type": "code",
      "metadata": {
        "id": "0pLoUL-CzlYs",
        "colab_type": "code",
        "colab": {
          "base_uri": "https://localhost:8080/",
          "height": 68
        },
        "outputId": "31ac9584-8813-490d-f06c-fe08a541525c"
      },
      "source": [
        "node1, node2 = objTree1.find(elem1), objTree1.find(elem2)\n",
        "node3, node4 = objTree2.find(elem1), objTree2.find(elem2)\n",
        "node5, node6 = objTree3.find(elem1), objTree3.find(elem2)\n",
        "\n",
        "print (\"objTree1: elements '{}' and '{}': {}\".format(elem1, elem2, checkCousins(node1, node2)))\n",
        "print (\"objTree2: elements '{}' and '{}': {}\".format(elem1, elem2, checkCousins(node3, node4)))\n",
        "print (\"objTree3: elements '{}' and '{}': {}\".format(elem1, elem2, checkCousins(node5, node6)))"
      ],
      "execution_count": 9,
      "outputs": [
        {
          "output_type": "stream",
          "text": [
            "objTree1: elements '1' and '5': True\n",
            "objTree2: elements '1' and '5': True\n",
            "objTree3: elements '1' and '5': False\n"
          ],
          "name": "stdout"
        }
      ]
    },
    {
      "cell_type": "markdown",
      "metadata": {
        "id": "zWTzmF-vzlqE",
        "colab_type": "text"
      },
      "source": [
        "## Testing approach 2: BSTCousinsTester object"
      ]
    },
    {
      "cell_type": "code",
      "metadata": {
        "id": "sUE9ogSKzl6M",
        "colab_type": "code",
        "colab": {
          "base_uri": "https://localhost:8080/",
          "height": 68
        },
        "outputId": "4b6fa3f9-2e4c-4563-ff34-35212f79a867"
      },
      "source": [
        "CousinTester1 = BSTCousinsTester(objTree1)\n",
        "CousinTester2 = BSTCousinsTester(objTree2)\n",
        "CousinTester3 = BSTCousinsTester(objTree3)\n",
        "\n",
        "print (\"objTree1: elements '{}' and '{}': {}\".format(elem1, elem2, CousinTester1.check2Nodes(elem1, elem2)))\n",
        "print (\"objTree2: elements '{}' and '{}': {}\".format(elem1, elem2, CousinTester2.check2Nodes(elem1, elem2)))\n",
        "print (\"objTree3: elements '{}' and '{}': {}\".format(elem1, elem2, CousinTester3.check2Nodes(elem1, elem2)))"
      ],
      "execution_count": 10,
      "outputs": [
        {
          "output_type": "stream",
          "text": [
            "objTree1: elements '1' and '5': True\n",
            "objTree2: elements '1' and '5': True\n",
            "objTree3: elements '1' and '5': False\n"
          ],
          "name": "stdout"
        }
      ]
    },
    {
      "cell_type": "markdown",
      "metadata": {
        "id": "5ldfAyiJzmD7",
        "colab_type": "text"
      },
      "source": [
        "## Testing approach 3: CousinBinarySearchTree object -> BST subclass"
      ]
    },
    {
      "cell_type": "code",
      "metadata": {
        "id": "QVCRO7vgzmRU",
        "colab_type": "code",
        "colab": {
          "base_uri": "https://localhost:8080/",
          "height": 68
        },
        "outputId": "1c1e5da7-6562-4053-b2a1-3775aca66f31"
      },
      "source": [
        "CTree1 = CousinBinarySearchTree()\n",
        "CTree2 = CousinBinarySearchTree()\n",
        "CTree3 = CousinBinarySearchTree()\n",
        "CTree1.root = objTree1.root\n",
        "CTree2.root = objTree2.root\n",
        "CTree3.root = objTree3.root\n",
        "\n",
        "print (\"objTree1: elements '{}' and '{}': {}\".format(elem1, elem2, CTree1.checkCousins(elem1, elem2)))\n",
        "print (\"objTree2: elements '{}' and '{}': {}\".format(elem1, elem2, CTree2.checkCousins(elem1, elem2)))\n",
        "print (\"objTree3: elements '{}' and '{}': {}\".format(elem1, elem2, CTree3.checkCousins(elem1, elem2)))"
      ],
      "execution_count": 11,
      "outputs": [
        {
          "output_type": "stream",
          "text": [
            "objTree1: elements '1' and '5': True\n",
            "objTree2: elements '1' and '5': True\n",
            "objTree3: elements '1' and '5': False\n"
          ],
          "name": "stdout"
        }
      ]
    }
  ]
}